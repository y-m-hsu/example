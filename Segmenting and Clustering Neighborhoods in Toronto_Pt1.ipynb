{
 "cells": [
  {
   "cell_type": "markdown",
   "metadata": {},
   "source": [
    "# Part 1 - get and organize the data"
   ]
  },
  {
   "cell_type": "code",
   "execution_count": 16,
   "metadata": {},
   "outputs": [],
   "source": [
    "import pandas as pd\n",
    "import numpy as np"
   ]
  },
  {
   "cell_type": "markdown",
   "metadata": {},
   "source": [
    "### To create the assigned dataframe, we need to do:\n",
    "+ retreive the data from website: https://en.wikipedia.org/wiki/List_of_postal_codes_of_Canada:_M\n",
    "+ store the data to dataframe\n",
    "+ remove the nan value(not assigned in Borough or Neighborhood column\n",
    "+ get the shape of new dataframe"
   ]
  },
  {
   "cell_type": "code",
   "execution_count": 50,
   "metadata": {},
   "outputs": [],
   "source": [
    "df = pd.read_html('https://en.wikipedia.org/wiki/List_of_postal_codes_of_Canada:_M') # get the list of dataframe from wiki"
   ]
  },
  {
   "cell_type": "code",
   "execution_count": 49,
   "metadata": {},
   "outputs": [
    {
     "name": "stdout",
     "output_type": "stream",
     "text": [
      "The data has 103 rows, 3 columns\n"
     ]
    }
   ],
   "source": [
    "Neighborhood_df = df[0].dropna() # drop the nan value in column\n",
    "\n",
    "Neighborhood_df.head() # check data\n",
    "Neighborhood_df.tail()\n",
    "S = Neighborhood_df.shape\n",
    "s = \"The data has %d rows, %d columns\" % (S[0],S[1])\n",
    "print(s) # print out the data size\n"
   ]
  },
  {
   "cell_type": "code",
   "execution_count": 48,
   "metadata": {},
   "outputs": [
    {
     "name": "stdout",
     "output_type": "stream",
     "text": [
      "The data has 103 rows, 3 columns\n"
     ]
    }
   ],
   "source": []
  },
  {
   "cell_type": "code",
   "execution_count": null,
   "metadata": {},
   "outputs": [],
   "source": []
  }
 ],
 "metadata": {
  "kernelspec": {
   "display_name": "Python 3",
   "language": "python",
   "name": "python3"
  },
  "language_info": {
   "codemirror_mode": {
    "name": "ipython",
    "version": 3
   },
   "file_extension": ".py",
   "mimetype": "text/x-python",
   "name": "python",
   "nbconvert_exporter": "python",
   "pygments_lexer": "ipython3",
   "version": "3.6.5"
  }
 },
 "nbformat": 4,
 "nbformat_minor": 4
}
